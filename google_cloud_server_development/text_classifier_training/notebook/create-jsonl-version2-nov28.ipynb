{
  "cells": [
    {
      "cell_type": "code",
      "execution_count": 16,
      "id": "bd80adbb-fda2-45c9-a76d-4f9441a0ccfe",
      "metadata": {
        "tags": []
      },
      "outputs": [
        {
          "name": "stdout",
          "output_type": "stream",
          "text": [
            "Requirement already satisfied: ndjson in /opt/conda/lib/python3.10/site-packages (0.3.1)\n",
            "Note: you may need to restart the kernel to use updated packages.\n"
          ]
        }
      ],
      "source": [
        "pip install ndjson"
      ]
    },
    {
      "cell_type": "code",
      "execution_count": 17,
      "id": "518c3b67-02db-4af5-b820-6b84f22bb143",
      "metadata": {
        "tags": []
      },
      "outputs": [
        {
          "name": "stdout",
          "output_type": "stream",
          "text": [
            "training1emakia\n"
          ]
        }
      ],
      "source": [
        "PROJECT_ID = \"training1emakia\"  # @param {type:\"string\"}\n",
        "print(PROJECT_ID)"
      ]
    },
    {
      "cell_type": "code",
      "execution_count": 18,
      "id": "0ad477f7-fc9c-490f-903f-61dc1efb2478",
      "metadata": {
        "tags": []
      },
      "outputs": [
        {
          "name": "stdout",
          "output_type": "stream",
          "text": [
            "{MY_NAME}_batch_prediction2\n",
            "gs://{MY_NAME}_batch_prediction2\n"
          ]
        }
      ],
      "source": [
        "BUCKET_NAME = \"{MY_NAME}_batch_prediction2\"  # @param {type:\"string\"}\n",
        "BUCKET_URI = f\"gs://{BUCKET_NAME}\"\n",
        "print(BUCKET_NAME)\n",
        "print(BUCKET_URI)"
      ]
    },
    {
      "cell_type": "code",
      "execution_count": 19,
      "id": "38724d5e-b819-4846-8a91-309309973559",
      "metadata": {
        "tags": []
      },
      "outputs": [
        {
          "name": "stdout",
          "output_type": "stream",
          "text": [
            "Creating gs://{MY_NAME}_batch_prediction2/...\n",
            "ServiceException: 409 A Cloud Storage bucket named '{MY_NAME}_batch_prediction2' already exists. Try another name. Bucket names must be globally unique across all Google Cloud projects, including those outside of your organization.\n"
          ]
        }
      ],
      "source": [
        "#create the bucket \n",
        "!gsutil mb -b on -l us-central1 gs://{MY_NAME}_batch_prediction2"
      ]
    },
    {
      "cell_type": "code",
      "execution_count": 5,
      "id": "a7fe5ae5-2c15-4588-9508-2eb09707ac8a",
      "metadata": {
        "tags": []
      },
      "outputs": [
        {
          "name": "stdout",
          "output_type": "stream",
          "text": [
            "CommandException: The mb command requires a URL that specifies a bucket.\n",
            "\"gs://{MY_NAME}_batch_prediction2/output\" is not valid.\n"
          ]
        }
      ],
      "source": [
        "#create the bucket \n",
        "#!gsutil mb -b on -l us-central1 gs://{MY_NAME}_batch_prediction/output"
      ]
    },
    {
      "cell_type": "code",
      "execution_count": 20,
      "id": "52945194-54a2-498c-a7f1-4d10b7427cad",
      "metadata": {
        "tags": []
      },
      "outputs": [
        {
          "name": "stdout",
          "output_type": "stream",
          "text": [
            "Index(['text'], dtype='object')\n",
            "@BradleyCullina3 @SenErikaGeiss @GovWhitmer Many agencies do have restrictions on foot and vehicle chases… but there’s a balance between choosing not to chase for risks, and letting everyone avoid legal accountability if they simply flee from officers.\n"
          ]
        }
      ],
      "source": [
        "import pandas as pd\n",
        "\n",
        "\n",
        "gcs_source = 'gs://{MY_NAME}_batch_prediction2/dataforbatchprediction_csv.csv'\n",
        "data = pd.read_csv(\n",
        "    gcs_source,      # relative python path to subdirectory\n",
        "    sep=',',           # Tab-separated value file.\n",
        "    #quotechar=\"'\",        # single quote allowed as quote character\n",
        "    usecols=['text']  # Only load the three columns specified.\n",
        "    #na_values=['.', '??']       # Take any '.' or '??' values as NA\n",
        ")\n",
        "print(data.keys())\n",
        "print(data.text[0])\n",
        "#print(data[1])"
      ]
    },
    {
      "cell_type": "code",
      "execution_count": null,
      "id": "2a60ea84-8e7d-4bfd-ba77-612e487d9b66",
      "metadata": {},
      "outputs": [],
      "source": []
    },
    {
      "cell_type": "code",
      "execution_count": 21,
      "id": "323fb89f-7323-4820-8257-c66681de4ee7",
      "metadata": {
        "tags": []
      },
      "outputs": [],
      "source": [
        "# Instantiate the Storage client and create the new bucket\n",
        "from google.cloud import  storage\n",
        "\n",
        "input_file_name = \"batch-prediction-input.jsonl\"\n",
        "\n",
        "storage_client = storage.Client()\n",
        "bucket = storage_client.bucket(BUCKET_NAME)\n",
        "# Iterate over the prediction instances, creating a new TXT file\n",
        "# for each.\n",
        "input_file_data = []\n",
        "for count, t in enumerate(data.text):\n",
        "    instance_name = f\"input_{count}.txt\"\n",
        "    instance_file_uri = f\"{BUCKET_URI}/{instance_name}\"\n",
        "    # Add the data to store in the JSONL input file.\n",
        "    tmp_data = {\"content\": instance_file_uri, \"mimeType\": \"text/plain\"}\n",
        "    input_file_data.append(tmp_data)\n",
        "\n",
        "    # Create the new instance file\n",
        "    blob = bucket.blob(instance_name)\n",
        "    blob.upload_from_string(t)\n",
        "\n",
        "input_str = \"\\n\".join([str(d) for d in input_file_data])\n",
        "file_blob = bucket.blob(f\"{input_file_name}\")\n",
        "file_blob.upload_from_string(input_str)"
      ]
    },
    {
      "cell_type": "code",
      "execution_count": null,
      "id": "dbdfcfb2-cf10-47d8-8322-f54c87b0e868",
      "metadata": {
        "tags": []
      },
      "outputs": [],
      "source": []
    },
    {
      "cell_type": "code",
      "execution_count": null,
      "id": "5e68cfd5-87dd-48d8-b830-1bc6aed3c277",
      "metadata": {
        "tags": []
      },
      "outputs": [],
      "source": []
    },
    {
      "cell_type": "code",
      "execution_count": null,
      "id": "05668f75-af60-4afd-8f57-52deccaab7cf",
      "metadata": {},
      "outputs": [],
      "source": []
    },
    {
      "cell_type": "code",
      "execution_count": null,
      "id": "5a2a5fb0-60ce-43dc-97af-56232833cc0e",
      "metadata": {
        "tags": []
      },
      "outputs": [],
      "source": []
    },
    {
      "cell_type": "code",
      "execution_count": null,
      "id": "d6a65ecb-5300-432a-9000-835a6555a15b",
      "metadata": {},
      "outputs": [],
      "source": []
    },
    {
      "cell_type": "code",
      "execution_count": null,
      "id": "0e91932e-f117-4ec0-a03c-443180a54281",
      "metadata": {},
      "outputs": [],
      "source": [
        "\n",
        "   "
      ]
    }
  ],
  "metadata": {
    "environment": {
      "kernel": "python3",
      "name": "tf2-cpu.2-11.m113",
      "type": "gcloud",
      "uri": "gcr.io/deeplearning-platform-release/tf2-cpu.2-11:m113"
    },
    "kernelspec": {
      "display_name": "Python 3",
      "language": "python",
      "name": "python3"
    },
    "language_info": {
      "codemirror_mode": {
        "name": "ipython",
        "version": 3
      },
      "file_extension": ".py",
      "mimetype": "text/x-python",
      "name": "python",
      "nbconvert_exporter": "python",
      "pygments_lexer": "ipython3",
      "version": "3.10.13"
    }
  },
  "nbformat": 4,
  "nbformat_minor": 5
}
