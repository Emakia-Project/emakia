{
  "cells": [
    {
      "cell_type": "code",
      "execution_count": null,
      "id": "bd80adbb-fda2-45c9-a76d-4f9441a0ccfe",
      "metadata": {
        "tags": []
      },
      "outputs": [],
      "source": [
        "import sys\n",
        "sys.path.append('../../../config.py')\n",
        "from config import YOUR_NAME\n",
        "\n",
        "pip install ndjson"
      ]
    },
    {
      "cell_type": "code",
      "execution_count": null,
      "id": "518c3b67-02db-4af5-b820-6b84f22bb143",
      "metadata": {
        "tags": []
      },
      "outputs": [],
      "source": [
        "PROJECT_ID = \"training1emakia\"  # @param {type:\"string\"}\n",
        "print(PROJECT_ID)"
      ]
    },
    {
      "cell_type": "code",
      "execution_count": null,
      "id": "0ad477f7-fc9c-490f-903f-61dc1efb2478",
      "metadata": {
        "tags": []
      },
      "outputs": [],
      "source": [
        "BUCKET_NAME = f\"{YOUR_NAME}_batch_prediction\"  # @param {type:\"string\"}\n",
        "BUCKET_URI = f\"gs://{BUCKET_NAME}\"\n",
        "print(BUCKET_NAME)\n",
        "print(BUCKET_URI)"
      ]
    },
    {
      "cell_type": "code",
      "execution_count": null,
      "id": "38724d5e-b819-4846-8a91-309309973559",
      "metadata": {
        "tags": []
      },
      "outputs": [],
      "source": [
        "#create the bucket \n",
        "!gsutil mb -b on -l us-central1 gs://{YOUR_NAME}_batch_prediction"
      ]
    },
    {
      "cell_type": "code",
      "execution_count": null,
      "id": "52945194-54a2-498c-a7f1-4d10b7427cad",
      "metadata": {
        "tags": []
      },
      "outputs": [],
      "source": [
        "import pandas as pd\n",
        "\n",
        "\n",
        "gcs_source = f'gs://{YOUR_NAME}_batch_prediction2/dataforbatchprediction_csv.csv'\n",
        "data = pd.read_csv(\n",
        "    gcs_source,      # relative python path to subdirectory\n",
        "    sep=',',           # Tab-separated value file.\n",
        "    #quotechar=\"'\",        # single quote allowed as quote character\n",
        "    usecols=['text']  # Only load the three columns specified.\n",
        "    #na_values=['.', '??']       # Take any '.' or '??' values as NA\n",
        ")\n",
        "print(data.keys())\n",
        "print(data.text[0])\n",
        "#print(data[1])"
      ]
    },
    {
      "cell_type": "code",
      "execution_count": 21,
      "id": "323fb89f-7323-4820-8257-c66681de4ee7",
      "metadata": {
        "tags": []
      },
      "outputs": [],
      "source": [
        "# Instantiate the Storage client and create the new bucket\n",
        "from google.cloud import  storage\n",
        "\n",
        "input_file_name = \"batch-prediction-input.jsonl\"\n",
        "\n",
        "storage_client = storage.Client()\n",
        "bucket = storage_client.bucket(BUCKET_NAME)\n",
        "# Iterate over the prediction instances, creating a new TXT file\n",
        "# for each.\n",
        "input_file_data = []\n",
        "for count, t in enumerate(data.text):\n",
        "    instance_name = f\"input_{count}.txt\"\n",
        "    instance_file_uri = f\"{BUCKET_URI}/{instance_name}\"\n",
        "    # Add the data to store in the JSONL input file.\n",
        "    tmp_data = {\"content\": instance_file_uri, \"mimeType\": \"text/plain\"}\n",
        "    input_file_data.append(tmp_data)\n",
        "\n",
        "    # Create the new instance file\n",
        "    blob = bucket.blob(instance_name)\n",
        "    blob.upload_from_string(t)\n",
        "\n",
        "input_str = \"\\n\".join([str(d) for d in input_file_data])\n",
        "file_blob = bucket.blob(f\"{input_file_name}\")\n",
        "file_blob.upload_from_string(input_str)"
      ]
    }
  ],
  "metadata": {
    "environment": {
      "kernel": "python3",
      "name": "tf2-cpu.2-11.m113",
      "type": "gcloud",
      "uri": "gcr.io/deeplearning-platform-release/tf2-cpu.2-11:m113"
    },
    "kernelspec": {
      "display_name": "Python 3",
      "language": "python",
      "name": "python3"
    },
    "language_info": {
      "codemirror_mode": {
        "name": "ipython",
        "version": 3
      },
      "file_extension": ".py",
      "mimetype": "text/x-python",
      "name": "python",
      "nbconvert_exporter": "python",
      "pygments_lexer": "ipython3",
      "version": "3.10.13"
    }
  },
  "nbformat": 4,
  "nbformat_minor": 5
}
