{
  "cells": [
    {
      "cell_type": "code",
      "execution_count": null,
      "id": "e72f9fc6-44f8-4f7a-be42-98974d4d77e2",
      "metadata": {
        "tags": []
      },
      "outputs": [],
      "source": [
        "import sys\n",
        "sys.path.append('../../../config.py')\n",
        "from config import YOUR_NAME\n",
        "\n",
        "pip install google-cloud-aiplatform"
      ]
    },
    {
      "cell_type": "code",
      "execution_count": 43,
      "id": "5da81927-df3a-4154-9680-46c3443c73b7",
      "metadata": {
        "tags": []
      },
      "outputs": [],
      "source": [
        "\n",
        "PROJECT_ID = \"training1emakia\"  # @param {type:\"string\"}"
      ]
    },
    {
      "cell_type": "code",
      "execution_count": null,
      "id": "5d211025-c4f5-4e45-aa22-7fd227cf1f6a",
      "metadata": {
        "tags": []
      },
      "outputs": [],
      "source": [
        "\n",
        "# set the project id\n",
        "! gcloud config set project $PROJECT_ID"
      ]
    },
    {
      "cell_type": "code",
      "execution_count": null,
      "id": "b5e4c340-a447-47f1-9f2a-83c3de6d7e97",
      "metadata": {
        "tags": []
      },
      "outputs": [],
      "source": [
        "# Set the project id\n",
        "! gcloud config set project {PROJECT_ID}"
      ]
    },
    {
      "cell_type": "code",
      "execution_count": null,
      "id": "5a754033-ee5c-4ff1-b3f9-4c44913f9935",
      "metadata": {
        "tags": []
      },
      "outputs": [],
      "source": [
        "! gcloud config list"
      ]
    },
    {
      "cell_type": "code",
      "execution_count": 31,
      "id": "84bf7afb-cc29-45ab-a380-5213f9243b40",
      "metadata": {
        "tags": []
      },
      "outputs": [],
      "source": [
        "REGION = \"us-central1\"  # @param {type: \"string\"}"
      ]
    },
    {
      "cell_type": "code",
      "execution_count": 48,
      "id": "f6744eb3-4d39-44e9-8bd0-c86b950062eb",
      "metadata": {
        "tags": []
      },
      "outputs": [],
      "source": [
        "#Create a Cloud Storage bucket\n",
        "#Create a storage bucket to store intermediate artifacts such as datasets.\n",
        "BUCKET_NAME = f\"{YOUR_NAME}tweetsdatatraining1\"  # @param {type:\"string\"}\n",
        "BUCKET_URI = f\"gs://{BUCKET_NAME}\""
      ]
    },
    {
      "cell_type": "code",
      "execution_count": null,
      "id": "4078583b-dfeb-4ec0-8925-cfdbf087861b",
      "metadata": {
        "tags": []
      },
      "outputs": [],
      "source": [
        "! gsutil mb -l us-central1 gs://{BUCKET_NAME}"
      ]
    },
    {
      "cell_type": "code",
      "execution_count": null,
      "id": "a733ac78-73f5-4851-a0b2-67be0f6cfd8b",
      "metadata": {
        "tags": []
      },
      "outputs": [],
      "source": [
        "SERVICE_ACCOUNT = !gcloud config list --format='value(core.account)' \n",
        "SERVICE_ACCOUNT = SERVICE_ACCOUNT[0]\n",
        "SERVICE_ACCOUNT"
      ]
    },
    {
      "cell_type": "code",
      "execution_count": null,
      "id": "7f2a8e51-257a-4f10-931f-8b7974c6201f",
      "metadata": {
        "tags": []
      },
      "outputs": [],
      "source": [
        "! gsutil iam ch serviceAccount:{SERVICE_ACCOUNT}:roles/storage.objectCreator $BUCKET_URI"
      ]
    },
    {
      "cell_type": "code",
      "execution_count": 52,
      "id": "736fd9a1-b7e6-41d3-9ab1-407204ca7d2d",
      "metadata": {
        "tags": []
      },
      "outputs": [],
      "source": [
        "#Initialize Vertex AI\n",
        "#Initialize the Vertex AI SDK for Python for the  project.\n",
        "from google.cloud import aiplatform"
      ]
    },
    {
      "cell_type": "code",
      "execution_count": 53,
      "id": "78333cd3-cf7d-468a-a58a-28bc4f569d20",
      "metadata": {
        "tags": []
      },
      "outputs": [],
      "source": [
        "\n",
        "from datetime import datetime\n",
        "\n",
        "TIMESTAMP = datetime.now().strftime(\"%Y%m%d%H%M%S\")"
      ]
    },
    {
      "cell_type": "code",
      "execution_count": 54,
      "id": "cbfa9c8a-1f86-4853-8b43-9b177b6db693",
      "metadata": {
        "tags": []
      },
      "outputs": [],
      "source": [
        "display_name = f\"{YOUR_NAME}-english-tweetsdata-{TIMESTAMP}\""
      ]
    },
    {
      "cell_type": "code",
      "execution_count": null,
      "id": "2d14cac1-ee30-4a7d-ba67-9749d137ac32",
      "metadata": {
        "tags": []
      },
      "outputs": [],
      "source": [
        "#Create a Dataset resource and import the data\n",
        "#Using the Python SDK, we create a dataset and import the dataset in one call to TextDataset.create(), \n",
        "#as shown in the following cell.\n",
        "#Creating and importing data is a long-running operation. \n",
        "# Use a timestamp to ensure unique resources\n",
        "src_uris = f\"gs://data_{YOUR_NAME}/tweets-labels.csv\"\n",
        "\n",
        "text_dataset = aiplatform.TextDataset.create(\n",
        "    display_name=display_name,\n",
        "    gcs_source=src_uris,\n",
        "    import_schema_uri=aiplatform.schema.dataset.ioformat.text.single_label_classification,\n",
        "    sync=True,\n",
        ")\n",
        "text_dataset.wait()"
      ]
    },
    {
      "cell_type": "code",
      "execution_count": null,
      "id": "42edfe19-d1d1-4a18-847f-19207b4668d2",
      "metadata": {},
      "outputs": [],
      "source": [
        "#Train the text classification model\n",
        "#Training the model is a two part process:\n",
        "\n",
        "#Define the training job. You must provide a display name and the type of training you want when you define the training job.\n",
        "#Run the training job. \n",
        "#When running the training job, you need to supply a reference to the dataset to use for training. \n",
        "#At this step, you can also configure the data split percentages.\n",
        "#You do not need to specify data splits. \n",
        "#The training job has a default setting of training 80%/ testing 10%/ validate 10% if you don't provide these values.\n",
        "\n",
        "#To train your model, you call AutoMLTextTrainingJob.run().\n",
        "#The method returns a reference to the new Model object.\n",
        "\n",
        "#As with importing data into the dataset, training your model can take a substantial amount of time. \n",
        "#The client library prints out operation status messages while the training pipeline operation processes. \n",
        "#We must wait for the training process to complete before we can get the resource name and ID of the new model, \n",
        "#which is required for model evaluation and model deployment.\n"
      ]
    },
    {
      "cell_type": "code",
      "execution_count": 57,
      "id": "b059d7c6-dd6a-4c05-9131-df034f593a30",
      "metadata": {
        "tags": []
      },
      "outputs": [],
      "source": [
        "# Define the training job\n",
        "training_job_display_name = f\"{YOUR_NAME}-english-tweet-text-training-job-{TIMESTAMP}\"\n",
        "job = aiplatform.AutoMLTextTrainingJob(\n",
        "    display_name=training_job_display_name,\n",
        "    prediction_type=\"classification\",\n",
        "    multi_label=False,\n",
        ")"
      ]
    },
    {
      "cell_type": "code",
      "execution_count": null,
      "id": "0df915c4-1c0f-40b0-999e-9bfd2de5a8fb",
      "metadata": {
        "tags": []
      },
      "outputs": [],
      "source": [
        "text_dataset"
      ]
    },
    {
      "cell_type": "code",
      "execution_count": 59,
      "id": "88a26b6a-d38e-42d1-a1ef-dabe021b0f13",
      "metadata": {
        "tags": []
      },
      "outputs": [],
      "source": [
        "text_dataset = aiplatform.TextDataset(\"5913324167272333312\")"
      ]
    },
    {
      "cell_type": "code",
      "execution_count": null,
      "id": "b4d3c6cc-38df-420f-8ced-c47790d9d162",
      "metadata": {
        "tags": []
      },
      "outputs": [],
      "source": [
        "text_dataset"
      ]
    },
    {
      "cell_type": "code",
      "execution_count": null,
      "id": "5c3765b5-fa73-40b1-8eb0-8971355069ed",
      "metadata": {
        "tags": []
      },
      "outputs": [],
      "source": [
        "# Run the Training job\n",
        "model_display_name = f\"{YOUR_NAME}-tweet-text-classification-model-{TIMESTAMP}\"\n",
        "\n",
        "#text_dataset = aiplatform.TextDataset(\"9181496036999299072\")\n",
        "\n",
        "model = job.run(\n",
        "    dataset= text_dataset,\n",
        "    model_display_name=model_display_name,\n",
        "    training_fraction_split=0.7,\n",
        "    validation_fraction_split=0.2,\n",
        "    test_fraction_split=0.1,\n",
        "    sync=True\n",
        ")"
      ]
    },
    {
      "cell_type": "code",
      "execution_count": null,
      "id": "88ff5008-a48f-4e9e-9229-eee8c7d52644",
      "metadata": {
        "tags": []
      },
      "outputs": [],
      "source": [
        "model_display_name"
      ]
    },
    {
      "cell_type": "code",
      "execution_count": 63,
      "id": "5aca1303-bcf6-4797-a67b-c1da9b1c0746",
      "metadata": {
        "tags": []
      },
      "outputs": [],
      "source": [
        "model = aiplatform.Model.list(filter=f'display_name={model_display_name}')"
      ]
    },
    {
      "cell_type": "code",
      "execution_count": null,
      "id": "93731f30-4d5f-4c6a-bf1d-9a5cdbcf2959",
      "metadata": {
        "tags": []
      },
      "outputs": [],
      "source": [
        "model[0]"
      ]
    },
    {
      "cell_type": "code",
      "execution_count": null,
      "id": "25e8bf7b-460e-40bb-af69-3244cc5e8ff9",
      "metadata": {},
      "outputs": [],
      "source": [
        "# Review model evaluation scores\n",
        "# After the model training has finished, we can review the evaluation scores for it using the list_model_evaluations() method. \n",
        "# This method will return an iterator for each evaluation slice."
      ]
    },
    {
      "cell_type": "code",
      "execution_count": null,
      "id": "d0479d6a-6a9a-422b-97c1-0f024f0da35e",
      "metadata": {
        "tags": []
      },
      "outputs": [],
      "source": [
        "timestamp = datetime.now().strftime(\"%Y%m%d%H%M%S\")\n",
        "deployed_model_display_name = f\"{MY_NAME}-deployed-tweets-text-classification-model-{timestamp}\"\n",
        "endpoint = model[0].deploy(\n",
        "    deployed_model_display_name=deployed_model_display_name, sync=True\n",
        ")"
      ]
    },
    {
      "cell_type": "code",
      "execution_count": null,
      "id": "626543be-cd06-40bc-9158-bba1a8f1e4ec",
      "metadata": {
        "tags": []
      },
      "outputs": [],
      "source": [
        "model_evaluations = model[0].list_model_evaluations()\n",
        "\n",
        "for model_evaluation in model_evaluations:\n",
        "    print(model_evaluation.to_dict())"
      ]
    }
  ],
  "metadata": {
    "environment": {
      "kernel": "python3",
      "name": "tf2-cpu.2-11.m113",
      "type": "gcloud",
      "uri": "gcr.io/deeplearning-platform-release/tf2-cpu.2-11:m113"
    },
    "kernelspec": {
      "display_name": "Python 3",
      "language": "python",
      "name": "python3"
    },
    "language_info": {
      "codemirror_mode": {
        "name": "ipython",
        "version": 3
      },
      "file_extension": ".py",
      "mimetype": "text/x-python",
      "name": "python",
      "nbconvert_exporter": "python",
      "pygments_lexer": "ipython3",
      "version": "3.10.13"
    }
  },
  "nbformat": 4,
  "nbformat_minor": 5
}
