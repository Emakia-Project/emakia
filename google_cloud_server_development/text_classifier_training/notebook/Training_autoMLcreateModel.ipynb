{
  "cells": [
    {
      "cell_type": "code",
      "execution_count": null,
      "id": "c1ec8ce0-a5fb-4441-92c1-0a8b4184addb",
      "metadata": {},
      "outputs": [],
      "source": [
        "#Installation\n",
        "#Install the following packages for executing this notebook."
      ]
    },
    {
      "cell_type": "code",
      "execution_count": 5,
      "id": "3c55e3aa-7bb6-40e3-82c7-8c044ba3cf59",
      "metadata": {},
      "outputs": [],
      "source": [
        "# install packages\n",
        "#! pip3 install --upgrade --quiet google-cloud-aiplatform \\\n",
        "                                    #google-cloud-storage \\\n",
        "                                    #jsonlines "
      ]
    },
    {
      "cell_type": "code",
      "execution_count": 42,
      "id": "e72f9fc6-44f8-4f7a-be42-98974d4d77e2",
      "metadata": {
        "tags": []
      },
      "outputs": [
        {
          "name": "stdout",
          "output_type": "stream",
          "text": [
            "Requirement already satisfied: google-cloud-aiplatform in /opt/conda/lib/python3.10/site-packages (1.36.0)\n",
            "Requirement already satisfied: google-api-core!=2.0.*,!=2.1.*,!=2.2.*,!=2.3.*,!=2.4.*,!=2.5.*,!=2.6.*,!=2.7.*,<3.0.0dev,>=1.32.0 in /opt/conda/lib/python3.10/site-packages (from google-api-core[grpc]!=2.0.*,!=2.1.*,!=2.2.*,!=2.3.*,!=2.4.*,!=2.5.*,!=2.6.*,!=2.7.*,<3.0.0dev,>=1.32.0->google-cloud-aiplatform) (1.34.0)\n",
            "Requirement already satisfied: proto-plus<2.0.0dev,>=1.22.0 in /opt/conda/lib/python3.10/site-packages (from google-cloud-aiplatform) (1.22.3)\n",
            "Requirement already satisfied: protobuf!=3.20.0,!=3.20.1,!=4.21.0,!=4.21.1,!=4.21.2,!=4.21.3,!=4.21.4,!=4.21.5,<5.0.0dev,>=3.19.5 in /opt/conda/lib/python3.10/site-packages (from google-cloud-aiplatform) (3.19.6)\n",
            "Requirement already satisfied: packaging>=14.3 in /opt/conda/lib/python3.10/site-packages (from google-cloud-aiplatform) (23.2)\n",
            "Requirement already satisfied: google-cloud-storage<3.0.0dev,>=1.32.0 in /opt/conda/lib/python3.10/site-packages (from google-cloud-aiplatform) (2.13.0)\n",
            "Requirement already satisfied: google-cloud-bigquery<4.0.0dev,>=1.15.0 in /opt/conda/lib/python3.10/site-packages (from google-cloud-aiplatform) (3.13.0)\n",
            "Requirement already satisfied: google-cloud-resource-manager<3.0.0dev,>=1.3.3 in /opt/conda/lib/python3.10/site-packages (from google-cloud-aiplatform) (1.10.4)\n",
            "Requirement already satisfied: shapely<3.0.0dev in /opt/conda/lib/python3.10/site-packages (from google-cloud-aiplatform) (2.0.2)\n",
            "Requirement already satisfied: googleapis-common-protos<2.0dev,>=1.56.2 in /opt/conda/lib/python3.10/site-packages (from google-api-core!=2.0.*,!=2.1.*,!=2.2.*,!=2.3.*,!=2.4.*,!=2.5.*,!=2.6.*,!=2.7.*,<3.0.0dev,>=1.32.0->google-api-core[grpc]!=2.0.*,!=2.1.*,!=2.2.*,!=2.3.*,!=2.4.*,!=2.5.*,!=2.6.*,!=2.7.*,<3.0.0dev,>=1.32.0->google-cloud-aiplatform) (1.61.0)\n",
            "Requirement already satisfied: google-auth<3.0dev,>=1.25.0 in /opt/conda/lib/python3.10/site-packages (from google-api-core!=2.0.*,!=2.1.*,!=2.2.*,!=2.3.*,!=2.4.*,!=2.5.*,!=2.6.*,!=2.7.*,<3.0.0dev,>=1.32.0->google-api-core[grpc]!=2.0.*,!=2.1.*,!=2.2.*,!=2.3.*,!=2.4.*,!=2.5.*,!=2.6.*,!=2.7.*,<3.0.0dev,>=1.32.0->google-cloud-aiplatform) (2.23.4)\n",
            "Requirement already satisfied: requests<3.0.0dev,>=2.18.0 in /opt/conda/lib/python3.10/site-packages (from google-api-core!=2.0.*,!=2.1.*,!=2.2.*,!=2.3.*,!=2.4.*,!=2.5.*,!=2.6.*,!=2.7.*,<3.0.0dev,>=1.32.0->google-api-core[grpc]!=2.0.*,!=2.1.*,!=2.2.*,!=2.3.*,!=2.4.*,!=2.5.*,!=2.6.*,!=2.7.*,<3.0.0dev,>=1.32.0->google-cloud-aiplatform) (2.31.0)\n",
            "Requirement already satisfied: grpcio<2.0dev,>=1.33.2 in /opt/conda/lib/python3.10/site-packages (from google-api-core[grpc]!=2.0.*,!=2.1.*,!=2.2.*,!=2.3.*,!=2.4.*,!=2.5.*,!=2.6.*,!=2.7.*,<3.0.0dev,>=1.32.0->google-cloud-aiplatform) (1.48.1)\n",
            "Requirement already satisfied: grpcio-status<2.0dev,>=1.33.2 in /opt/conda/lib/python3.10/site-packages (from google-api-core[grpc]!=2.0.*,!=2.1.*,!=2.2.*,!=2.3.*,!=2.4.*,!=2.5.*,!=2.6.*,!=2.7.*,<3.0.0dev,>=1.32.0->google-cloud-aiplatform) (1.48.1)\n",
            "Requirement already satisfied: google-cloud-core<3.0.0dev,>=1.6.0 in /opt/conda/lib/python3.10/site-packages (from google-cloud-bigquery<4.0.0dev,>=1.15.0->google-cloud-aiplatform) (2.3.3)\n",
            "Requirement already satisfied: google-resumable-media<3.0dev,>=0.6.0 in /opt/conda/lib/python3.10/site-packages (from google-cloud-bigquery<4.0.0dev,>=1.15.0->google-cloud-aiplatform) (2.6.0)\n",
            "Requirement already satisfied: python-dateutil<3.0dev,>=2.7.2 in /opt/conda/lib/python3.10/site-packages (from google-cloud-bigquery<4.0.0dev,>=1.15.0->google-cloud-aiplatform) (2.8.2)\n",
            "Requirement already satisfied: grpc-google-iam-v1<1.0.0dev,>=0.12.4 in /opt/conda/lib/python3.10/site-packages (from google-cloud-resource-manager<3.0.0dev,>=1.3.3->google-cloud-aiplatform) (0.12.6)\n",
            "Requirement already satisfied: google-crc32c<2.0dev,>=1.0 in /opt/conda/lib/python3.10/site-packages (from google-cloud-storage<3.0.0dev,>=1.32.0->google-cloud-aiplatform) (1.5.0)\n",
            "Requirement already satisfied: numpy>=1.14 in /opt/conda/lib/python3.10/site-packages (from shapely<3.0.0dev->google-cloud-aiplatform) (1.24.4)\n",
            "Requirement already satisfied: cachetools<6.0,>=2.0.0 in /opt/conda/lib/python3.10/site-packages (from google-auth<3.0dev,>=1.25.0->google-api-core!=2.0.*,!=2.1.*,!=2.2.*,!=2.3.*,!=2.4.*,!=2.5.*,!=2.6.*,!=2.7.*,<3.0.0dev,>=1.32.0->google-api-core[grpc]!=2.0.*,!=2.1.*,!=2.2.*,!=2.3.*,!=2.4.*,!=2.5.*,!=2.6.*,!=2.7.*,<3.0.0dev,>=1.32.0->google-cloud-aiplatform) (4.2.4)\n",
            "Requirement already satisfied: pyasn1-modules>=0.2.1 in /opt/conda/lib/python3.10/site-packages (from google-auth<3.0dev,>=1.25.0->google-api-core!=2.0.*,!=2.1.*,!=2.2.*,!=2.3.*,!=2.4.*,!=2.5.*,!=2.6.*,!=2.7.*,<3.0.0dev,>=1.32.0->google-api-core[grpc]!=2.0.*,!=2.1.*,!=2.2.*,!=2.3.*,!=2.4.*,!=2.5.*,!=2.6.*,!=2.7.*,<3.0.0dev,>=1.32.0->google-cloud-aiplatform) (0.3.0)\n",
            "Requirement already satisfied: rsa<5,>=3.1.4 in /opt/conda/lib/python3.10/site-packages (from google-auth<3.0dev,>=1.25.0->google-api-core!=2.0.*,!=2.1.*,!=2.2.*,!=2.3.*,!=2.4.*,!=2.5.*,!=2.6.*,!=2.7.*,<3.0.0dev,>=1.32.0->google-api-core[grpc]!=2.0.*,!=2.1.*,!=2.2.*,!=2.3.*,!=2.4.*,!=2.5.*,!=2.6.*,!=2.7.*,<3.0.0dev,>=1.32.0->google-cloud-aiplatform) (4.9)\n",
            "Requirement already satisfied: six>=1.5.2 in /opt/conda/lib/python3.10/site-packages (from grpcio<2.0dev,>=1.33.2->google-api-core[grpc]!=2.0.*,!=2.1.*,!=2.2.*,!=2.3.*,!=2.4.*,!=2.5.*,!=2.6.*,!=2.7.*,<3.0.0dev,>=1.32.0->google-cloud-aiplatform) (1.16.0)\n",
            "Requirement already satisfied: charset-normalizer<4,>=2 in /opt/conda/lib/python3.10/site-packages (from requests<3.0.0dev,>=2.18.0->google-api-core!=2.0.*,!=2.1.*,!=2.2.*,!=2.3.*,!=2.4.*,!=2.5.*,!=2.6.*,!=2.7.*,<3.0.0dev,>=1.32.0->google-api-core[grpc]!=2.0.*,!=2.1.*,!=2.2.*,!=2.3.*,!=2.4.*,!=2.5.*,!=2.6.*,!=2.7.*,<3.0.0dev,>=1.32.0->google-cloud-aiplatform) (3.3.2)\n",
            "Requirement already satisfied: idna<4,>=2.5 in /opt/conda/lib/python3.10/site-packages (from requests<3.0.0dev,>=2.18.0->google-api-core!=2.0.*,!=2.1.*,!=2.2.*,!=2.3.*,!=2.4.*,!=2.5.*,!=2.6.*,!=2.7.*,<3.0.0dev,>=1.32.0->google-api-core[grpc]!=2.0.*,!=2.1.*,!=2.2.*,!=2.3.*,!=2.4.*,!=2.5.*,!=2.6.*,!=2.7.*,<3.0.0dev,>=1.32.0->google-cloud-aiplatform) (3.4)\n",
            "Requirement already satisfied: urllib3<3,>=1.21.1 in /opt/conda/lib/python3.10/site-packages (from requests<3.0.0dev,>=2.18.0->google-api-core!=2.0.*,!=2.1.*,!=2.2.*,!=2.3.*,!=2.4.*,!=2.5.*,!=2.6.*,!=2.7.*,<3.0.0dev,>=1.32.0->google-api-core[grpc]!=2.0.*,!=2.1.*,!=2.2.*,!=2.3.*,!=2.4.*,!=2.5.*,!=2.6.*,!=2.7.*,<3.0.0dev,>=1.32.0->google-cloud-aiplatform) (1.26.18)\n",
            "Requirement already satisfied: certifi>=2017.4.17 in /opt/conda/lib/python3.10/site-packages (from requests<3.0.0dev,>=2.18.0->google-api-core!=2.0.*,!=2.1.*,!=2.2.*,!=2.3.*,!=2.4.*,!=2.5.*,!=2.6.*,!=2.7.*,<3.0.0dev,>=1.32.0->google-api-core[grpc]!=2.0.*,!=2.1.*,!=2.2.*,!=2.3.*,!=2.4.*,!=2.5.*,!=2.6.*,!=2.7.*,<3.0.0dev,>=1.32.0->google-cloud-aiplatform) (2023.7.22)\n",
            "Requirement already satisfied: pyasn1<0.6.0,>=0.4.6 in /opt/conda/lib/python3.10/site-packages (from pyasn1-modules>=0.2.1->google-auth<3.0dev,>=1.25.0->google-api-core!=2.0.*,!=2.1.*,!=2.2.*,!=2.3.*,!=2.4.*,!=2.5.*,!=2.6.*,!=2.7.*,<3.0.0dev,>=1.32.0->google-api-core[grpc]!=2.0.*,!=2.1.*,!=2.2.*,!=2.3.*,!=2.4.*,!=2.5.*,!=2.6.*,!=2.7.*,<3.0.0dev,>=1.32.0->google-cloud-aiplatform) (0.5.0)\n",
            "Note: you may need to restart the kernel to use updated packages.\n"
          ]
        }
      ],
      "source": [
        "pip install google-cloud-aiplatform"
      ]
    },
    {
      "cell_type": "code",
      "execution_count": 3,
      "id": "f5273c36-8ca2-4373-be05-1f30a88503bf",
      "metadata": {},
      "outputs": [],
      "source": [
        "#! pip3 install --force-reinstall 'google-cloud-aiplatform>=1.15' -q --no-warn-conflicts\n"
      ]
    },
    {
      "cell_type": "code",
      "execution_count": 10,
      "id": "cd5b50cb-276e-443d-ad97-abe25fb0c05b",
      "metadata": {},
      "outputs": [],
      "source": [
        "#Set project ID"
      ]
    },
    {
      "cell_type": "code",
      "execution_count": 43,
      "id": "5da81927-df3a-4154-9680-46c3443c73b7",
      "metadata": {
        "tags": []
      },
      "outputs": [],
      "source": [
        "\n",
        "PROJECT_ID = \"training1emakia\"  # @param {type:\"string\"}"
      ]
    },
    {
      "cell_type": "code",
      "execution_count": 44,
      "id": "f03e05a4-9f7c-450a-a003-aa86af460d75",
      "metadata": {
        "tags": []
      },
      "outputs": [
        {
          "name": "stdout",
          "output_type": "stream",
          "text": [
            "training1emakia\n"
          ]
        }
      ],
      "source": [
        "print(PROJECT_ID)"
      ]
    },
    {
      "cell_type": "code",
      "execution_count": 8,
      "id": "c91d70d7-eaac-4dad-90d0-772d2680ce43",
      "metadata": {},
      "outputs": [],
      "source": [
        "#! gcloud auth login"
      ]
    },
    {
      "cell_type": "code",
      "execution_count": 45,
      "id": "5d211025-c4f5-4e45-aa22-7fd227cf1f6a",
      "metadata": {
        "tags": []
      },
      "outputs": [
        {
          "name": "stdout",
          "output_type": "stream",
          "text": [
            "Updated property [core/project].\n"
          ]
        }
      ],
      "source": [
        "\n",
        "# set the project id\n",
        "! gcloud config set project $PROJECT_ID"
      ]
    },
    {
      "cell_type": "code",
      "execution_count": 46,
      "id": "b5e4c340-a447-47f1-9f2a-83c3de6d7e97",
      "metadata": {
        "tags": []
      },
      "outputs": [
        {
          "name": "stdout",
          "output_type": "stream",
          "text": [
            "Updated property [core/project].\n"
          ]
        }
      ],
      "source": [
        "# Set the project id\n",
        "! gcloud config set project {PROJECT_ID}"
      ]
    },
    {
      "cell_type": "code",
      "execution_count": 47,
      "id": "5a754033-ee5c-4ff1-b3f9-4c44913f9935",
      "metadata": {
        "tags": []
      },
      "outputs": [
        {
          "name": "stdout",
          "output_type": "stream",
          "text": [
            "[core]\n",
            "account = 12807912884-compute@developer.gserviceaccount.com\n",
            "disable_usage_reporting = True\n",
            "project = training1emakia\n",
            "\n",
            "Your active configuration is: [default]\n"
          ]
        }
      ],
      "source": [
        "! gcloud config list"
      ]
    },
    {
      "cell_type": "code",
      "execution_count": 10,
      "id": "a0ed8bd5-e8bf-40bd-9d79-ee2054da47c6",
      "metadata": {},
      "outputs": [],
      "source": [
        "#Set Region"
      ]
    },
    {
      "cell_type": "code",
      "execution_count": 31,
      "id": "84bf7afb-cc29-45ab-a380-5213f9243b40",
      "metadata": {
        "tags": []
      },
      "outputs": [],
      "source": [
        "REGION = \"us-central1\"  # @param {type: \"string\"}"
      ]
    },
    {
      "cell_type": "code",
      "execution_count": null,
      "id": "01586e01-002a-401d-b901-c2f199569ac1",
      "metadata": {},
      "outputs": [],
      "source": [
        "#Create a Cloud Storage bucket\n",
        "#Create a storage bucket to store intermediate artifacts such as datasets."
      ]
    },
    {
      "cell_type": "code",
      "execution_count": 48,
      "id": "f6744eb3-4d39-44e9-8bd0-c86b950062eb",
      "metadata": {
        "tags": []
      },
      "outputs": [],
      "source": [
        "BUCKET_NAME = f\"{MY_NAME}tweetsdatatraining1\"  # @param {type:\"string\"}\n",
        "BUCKET_URI = f\"gs://{BUCKET_NAME}\""
      ]
    },
    {
      "cell_type": "code",
      "execution_count": null,
      "id": "cd28b79f-7ec3-4f6f-9036-f23f827f6d7c",
      "metadata": {},
      "outputs": [],
      "source": []
    },
    {
      "cell_type": "code",
      "execution_count": 49,
      "id": "4078583b-dfeb-4ec0-8925-cfdbf087861b",
      "metadata": {
        "tags": []
      },
      "outputs": [
        {
          "name": "stdout",
          "output_type": "stream",
          "text": [
            "Creating gs://{MY_NAME}tweetsdatatraining1/...\n",
            "ServiceException: 409 A Cloud Storage bucket named '{MY_NAME}tweetsdatatraining1' already exists. Try another name. Bucket names must be globally unique across all Google Cloud projects, including those outside of your organization.\n"
          ]
        }
      ],
      "source": [
        "! gsutil mb -l us-central1 gs://{BUCKET_NAME}"
      ]
    },
    {
      "cell_type": "code",
      "execution_count": null,
      "id": "2f571add-ebb9-466b-8ae3-d85ded80f30f",
      "metadata": {},
      "outputs": [],
      "source": []
    },
    {
      "cell_type": "code",
      "execution_count": 50,
      "id": "a733ac78-73f5-4851-a0b2-67be0f6cfd8b",
      "metadata": {
        "tags": []
      },
      "outputs": [
        {
          "data": {
            "text/plain": [
              "'12807912884-compute@developer.gserviceaccount.com'"
            ]
          },
          "execution_count": 50,
          "metadata": {},
          "output_type": "execute_result"
        }
      ],
      "source": [
        "SERVICE_ACCOUNT = !gcloud config list --format='value(core.account)' \n",
        "SERVICE_ACCOUNT = SERVICE_ACCOUNT[0]\n",
        "SERVICE_ACCOUNT"
      ]
    },
    {
      "cell_type": "code",
      "execution_count": null,
      "id": "1c5865a6-bcd0-4b17-9874-7837119d1f59",
      "metadata": {},
      "outputs": [],
      "source": []
    },
    {
      "cell_type": "code",
      "execution_count": 51,
      "id": "7f2a8e51-257a-4f10-931f-8b7974c6201f",
      "metadata": {
        "tags": []
      },
      "outputs": [
        {
          "name": "stdout",
          "output_type": "stream",
          "text": [
            "No changes made to gs://{MY_NAME}tweetsdatatraining1/\n",
            "No changes made to gs://{MY_NAME}tweetsdatatraining1/\n"
          ]
        }
      ],
      "source": [
        "! gsutil iam ch serviceAccount:{SERVICE_ACCOUNT}:roles/storage.objectCreator $BUCKET_URI\n",
        "\n",
        "! gsutil iam ch serviceAccount:{SERVICE_ACCOUNT}:roles/storage.objectViewer $BUCKET_URI"
      ]
    },
    {
      "cell_type": "code",
      "execution_count": null,
      "id": "20a67266-9c50-4bad-954b-a837e8d679aa",
      "metadata": {},
      "outputs": [],
      "source": []
    },
    {
      "cell_type": "code",
      "execution_count": null,
      "id": "3f559554-57e3-474d-8d9a-792ea232e355",
      "metadata": {},
      "outputs": [],
      "source": [
        "#Initialize Vertex AI\n",
        "#Initialize the Vertex AI SDK for Python for the  project."
      ]
    },
    {
      "cell_type": "code",
      "execution_count": null,
      "id": "4c81e9c0-fbd8-407e-ac58-56729ad49b0c",
      "metadata": {},
      "outputs": [],
      "source": []
    },
    {
      "cell_type": "code",
      "execution_count": null,
      "id": "f409f3e3-3e45-4e5c-aa4f-b5fcaf78de42",
      "metadata": {},
      "outputs": [],
      "source": []
    },
    {
      "cell_type": "code",
      "execution_count": 52,
      "id": "736fd9a1-b7e6-41d3-9ab1-407204ca7d2d",
      "metadata": {
        "tags": []
      },
      "outputs": [],
      "source": [
        "from google.cloud import aiplatform"
      ]
    },
    {
      "cell_type": "code",
      "execution_count": null,
      "id": "f20521c5-803e-45bc-a703-6da1fbbf38fe",
      "metadata": {},
      "outputs": [],
      "source": []
    },
    {
      "cell_type": "code",
      "execution_count": 53,
      "id": "78333cd3-cf7d-468a-a58a-28bc4f569d20",
      "metadata": {
        "tags": []
      },
      "outputs": [],
      "source": [
        "\n",
        "from datetime import datetime\n",
        "\n",
        "TIMESTAMP = datetime.now().strftime(\"%Y%m%d%H%M%S\")"
      ]
    },
    {
      "cell_type": "code",
      "execution_count": 54,
      "id": "cbfa9c8a-1f86-4853-8b43-9b177b6db693",
      "metadata": {
        "tags": []
      },
      "outputs": [],
      "source": [
        "display_name = f\"{MY_NAME}2-english-tweetsdata-{TIMESTAMP}\""
      ]
    },
    {
      "cell_type": "code",
      "execution_count": 55,
      "id": "6c89e3aa-a9f3-46ac-a052-042d6a64aa93",
      "metadata": {
        "tags": []
      },
      "outputs": [
        {
          "name": "stdout",
          "output_type": "stream",
          "text": [
            "{MY_NAME}2-english-tweetsdata-20231122022517\n"
          ]
        }
      ],
      "source": [
        "print(display_name)"
      ]
    },
    {
      "cell_type": "code",
      "execution_count": 40,
      "id": "3b306710-3e0e-47d2-ac2a-c72a609aef60",
      "metadata": {
        "tags": []
      },
      "outputs": [],
      "source": [
        "#Create a Dataset resource and import the data\n",
        "#Using the Python SDK, we create a dataset and import the dataset in one call to TextDataset.create(), \n",
        "#as shown in the following cell.\n",
        "\n",
        "#Creating and importing data is a long-running operation. "
      ]
    },
    {
      "cell_type": "code",
      "execution_count": 56,
      "id": "2d14cac1-ee30-4a7d-ba67-9749d137ac32",
      "metadata": {
        "tags": []
      },
      "outputs": [
        {
          "name": "stdout",
          "output_type": "stream",
          "text": [
            "Creating TextDataset\n",
            "Create TextDataset backing LRO: projects/12807912884/locations/us-central1/datasets/5913324167272333312/operations/8501117623256219648\n",
            "TextDataset created. Resource name: projects/12807912884/locations/us-central1/datasets/5913324167272333312\n",
            "To use this TextDataset in another session:\n",
            "ds = aiplatform.TextDataset('projects/12807912884/locations/us-central1/datasets/5913324167272333312')\n",
            "Importing TextDataset data: projects/12807912884/locations/us-central1/datasets/5913324167272333312\n",
            "Import TextDataset data backing LRO: projects/12807912884/locations/us-central1/datasets/5913324167272333312/operations/3249920457742221312\n",
            "TextDataset data imported. Resource name: projects/12807912884/locations/us-central1/datasets/5913324167272333312\n",
            "{MY_NAME}2-english-tweetsdata-20231122022517\n",
            "projects/12807912884/locations/us-central1/datasets/5913324167272333312\n"
          ]
        }
      ],
      "source": [
        "# Use a timestamp to ensure unique resources\n",
        "src_uris = \"gs://data_{MY_NAME}/tweets-labels.csv\"\n",
        "\n",
        "text_dataset = aiplatform.TextDataset.create(\n",
        "    display_name=display_name,\n",
        "    gcs_source=src_uris,\n",
        "    import_schema_uri=aiplatform.schema.dataset.ioformat.text.single_label_classification,\n",
        "    sync=True,\n",
        ")\n",
        "text_dataset.wait()\n",
        "    \n",
        "print(text_dataset.display_name)\n",
        "print(text_dataset.resource_name)"
      ]
    },
    {
      "cell_type": "code",
      "execution_count": null,
      "id": "42edfe19-d1d1-4a18-847f-19207b4668d2",
      "metadata": {},
      "outputs": [],
      "source": [
        "#Train the text classification model\n",
        "#Training the model is a two part process:\n",
        "\n",
        "#Define the training job. You must provide a display name and the type of training you want when you define the training job.\n",
        "#Run the training job. \n",
        "#When running the training job, you need to supply a reference to the dataset to use for training. \n",
        "#At this step, you can also configure the data split percentages.\n",
        "#You do not need to specify data splits. \n",
        "#The training job has a default setting of training 80%/ testing 10%/ validate 10% if you don't provide these values.\n",
        "\n",
        "#To train your model, you call AutoMLTextTrainingJob.run().\n",
        "#The method returns a reference to the new Model object.\n",
        "\n",
        "#As with importing data into the dataset, training your model can take a substantial amount of time. \n",
        "#The client library prints out operation status messages while the training pipeline operation processes. \n",
        "#We must wait for the training process to complete before we can get the resource name and ID of the new model, \n",
        "#which is required for model evaluation and model deployment.\n"
      ]
    },
    {
      "cell_type": "code",
      "execution_count": 57,
      "id": "b059d7c6-dd6a-4c05-9131-df034f593a30",
      "metadata": {
        "tags": []
      },
      "outputs": [],
      "source": [
        "# Define the training job\n",
        "training_job_display_name = f\"{MY_NAME}2-english-tweet-text-training-job-{TIMESTAMP}\"\n",
        "job = aiplatform.AutoMLTextTrainingJob(\n",
        "    display_name=training_job_display_name,\n",
        "    prediction_type=\"classification\",\n",
        "    multi_label=False,\n",
        ")"
      ]
    },
    {
      "cell_type": "code",
      "execution_count": 71,
      "id": "0df915c4-1c0f-40b0-999e-9bfd2de5a8fb",
      "metadata": {
        "tags": []
      },
      "outputs": [
        {
          "data": {
            "text/plain": [
              "<google.cloud.aiplatform.datasets.text_dataset.TextDataset object at 0x7f5f1e7948e0> \n",
              "resource name: projects/12807912884/locations/us-central1/datasets/5913324167272333312"
            ]
          },
          "execution_count": 71,
          "metadata": {},
          "output_type": "execute_result"
        }
      ],
      "source": [
        "text_dataset\n"
      ]
    },
    {
      "cell_type": "code",
      "execution_count": 59,
      "id": "88a26b6a-d38e-42d1-a1ef-dabe021b0f13",
      "metadata": {
        "tags": []
      },
      "outputs": [],
      "source": [
        "text_dataset = aiplatform.TextDataset(\"5913324167272333312\")"
      ]
    },
    {
      "cell_type": "code",
      "execution_count": 69,
      "id": "b4d3c6cc-38df-420f-8ced-c47790d9d162",
      "metadata": {
        "tags": []
      },
      "outputs": [
        {
          "data": {
            "text/plain": [
              "<google.cloud.aiplatform.datasets.text_dataset.TextDataset object at 0x7f5f1e7948e0> \n",
              "resource name: projects/12807912884/locations/us-central1/datasets/5913324167272333312"
            ]
          },
          "execution_count": 69,
          "metadata": {},
          "output_type": "execute_result"
        }
      ],
      "source": [
        "text_dataset"
      ]
    },
    {
      "cell_type": "code",
      "execution_count": 70,
      "id": "5c3765b5-fa73-40b1-8eb0-8971355069ed",
      "metadata": {
        "tags": []
      },
      "outputs": [
        {
          "ename": "RuntimeError",
          "evalue": "AutoML Text Training has already run.",
          "output_type": "error",
          "traceback": [
            "\u001b[0;31m---------------------------------------------------------------------------\u001b[0m",
            "\u001b[0;31mRuntimeError\u001b[0m                              Traceback (most recent call last)",
            "Cell \u001b[0;32mIn[70], line 6\u001b[0m\n\u001b[1;32m      2\u001b[0m model_display_name \u001b[38;5;241m=\u001b[39m \u001b[38;5;124mf\u001b[39m\u001b[38;5;124m\"\u001b[39m\u001b[38;5;124m{MY_NAME}2-tweet-text-classification-model-\u001b[39m\u001b[38;5;132;01m{\u001b[39;00mTIMESTAMP\u001b[38;5;132;01m}\u001b[39;00m\u001b[38;5;124m\"\u001b[39m\n\u001b[1;32m      4\u001b[0m \u001b[38;5;66;03m#text_dataset = aiplatform.TextDataset(\"9181496036999299072\")\u001b[39;00m\n\u001b[0;32m----> 6\u001b[0m model \u001b[38;5;241m=\u001b[39m \u001b[43mjob\u001b[49m\u001b[38;5;241;43m.\u001b[39;49m\u001b[43mrun\u001b[49m\u001b[43m(\u001b[49m\n\u001b[1;32m      7\u001b[0m \u001b[43m    \u001b[49m\u001b[43mdataset\u001b[49m\u001b[38;5;241;43m=\u001b[39;49m\u001b[43m \u001b[49m\u001b[43mtext_dataset\u001b[49m\u001b[43m,\u001b[49m\n\u001b[1;32m      8\u001b[0m \u001b[43m    \u001b[49m\u001b[43mmodel_display_name\u001b[49m\u001b[38;5;241;43m=\u001b[39;49m\u001b[43mmodel_display_name\u001b[49m\u001b[43m,\u001b[49m\n\u001b[1;32m      9\u001b[0m \u001b[43m    \u001b[49m\u001b[43mtraining_fraction_split\u001b[49m\u001b[38;5;241;43m=\u001b[39;49m\u001b[38;5;241;43m0.7\u001b[39;49m\u001b[43m,\u001b[49m\n\u001b[1;32m     10\u001b[0m \u001b[43m    \u001b[49m\u001b[43mvalidation_fraction_split\u001b[49m\u001b[38;5;241;43m=\u001b[39;49m\u001b[38;5;241;43m0.2\u001b[39;49m\u001b[43m,\u001b[49m\n\u001b[1;32m     11\u001b[0m \u001b[43m    \u001b[49m\u001b[43mtest_fraction_split\u001b[49m\u001b[38;5;241;43m=\u001b[39;49m\u001b[38;5;241;43m0.1\u001b[39;49m\u001b[43m,\u001b[49m\n\u001b[1;32m     12\u001b[0m \u001b[43m    \u001b[49m\u001b[43msync\u001b[49m\u001b[38;5;241;43m=\u001b[39;49m\u001b[38;5;28;43;01mTrue\u001b[39;49;00m\n\u001b[1;32m     13\u001b[0m \u001b[43m)\u001b[49m\n",
            "File \u001b[0;32m/opt/conda/lib/python3.10/site-packages/google/cloud/aiplatform/training_jobs.py:8627\u001b[0m, in \u001b[0;36mAutoMLTextTrainingJob.run\u001b[0;34m(self, dataset, training_fraction_split, validation_fraction_split, test_fraction_split, training_filter_split, validation_filter_split, test_filter_split, model_display_name, model_labels, model_id, parent_model, is_default_version, model_version_aliases, model_version_description, sync, create_request_timeout)\u001b[0m\n\u001b[1;32m   8624\u001b[0m     \u001b[38;5;28;01mraise\u001b[39;00m \u001b[38;5;167;01mRuntimeError\u001b[39;00m(\u001b[38;5;124m\"\u001b[39m\u001b[38;5;124mAutoML Text Training is already scheduled to run.\u001b[39m\u001b[38;5;124m\"\u001b[39m)\n\u001b[1;32m   8626\u001b[0m \u001b[38;5;28;01mif\u001b[39;00m \u001b[38;5;28mself\u001b[39m\u001b[38;5;241m.\u001b[39m_has_run:\n\u001b[0;32m-> 8627\u001b[0m     \u001b[38;5;28;01mraise\u001b[39;00m \u001b[38;5;167;01mRuntimeError\u001b[39;00m(\u001b[38;5;124m\"\u001b[39m\u001b[38;5;124mAutoML Text Training has already run.\u001b[39m\u001b[38;5;124m\"\u001b[39m)\n\u001b[1;32m   8629\u001b[0m \u001b[38;5;28;01mreturn\u001b[39;00m \u001b[38;5;28mself\u001b[39m\u001b[38;5;241m.\u001b[39m_run(\n\u001b[1;32m   8630\u001b[0m     dataset\u001b[38;5;241m=\u001b[39mdataset,\n\u001b[1;32m   8631\u001b[0m     training_fraction_split\u001b[38;5;241m=\u001b[39mtraining_fraction_split,\n\u001b[0;32m   (...)\u001b[0m\n\u001b[1;32m   8645\u001b[0m     create_request_timeout\u001b[38;5;241m=\u001b[39mcreate_request_timeout,\n\u001b[1;32m   8646\u001b[0m )\n",
            "\u001b[0;31mRuntimeError\u001b[0m: AutoML Text Training has already run."
          ]
        }
      ],
      "source": [
        "# Run the Training job\n",
        "model_display_name = f\"{MY_NAME}2-tweet-text-classification-model-{TIMESTAMP}\"\n",
        "\n",
        "#text_dataset = aiplatform.TextDataset(\"9181496036999299072\")\n",
        "\n",
        "model = job.run(\n",
        "    dataset= text_dataset,\n",
        "    model_display_name=model_display_name,\n",
        "    training_fraction_split=0.7,\n",
        "    validation_fraction_split=0.2,\n",
        "    test_fraction_split=0.1,\n",
        "    sync=True\n",
        ")"
      ]
    },
    {
      "cell_type": "code",
      "execution_count": 62,
      "id": "88ff5008-a48f-4e9e-9229-eee8c7d52644",
      "metadata": {
        "tags": []
      },
      "outputs": [
        {
          "data": {
            "text/plain": [
              "'{MY_NAME}2-tweet-text-classification-model-20231122022517'"
            ]
          },
          "execution_count": 62,
          "metadata": {},
          "output_type": "execute_result"
        }
      ],
      "source": [
        "model_display_name"
      ]
    },
    {
      "cell_type": "code",
      "execution_count": 63,
      "id": "5aca1303-bcf6-4797-a67b-c1da9b1c0746",
      "metadata": {
        "tags": []
      },
      "outputs": [],
      "source": [
        "model = aiplatform.Model.list(filter=f'display_name={model_display_name}')"
      ]
    },
    {
      "cell_type": "code",
      "execution_count": 64,
      "id": "93731f30-4d5f-4c6a-bf1d-9a5cdbcf2959",
      "metadata": {
        "tags": []
      },
      "outputs": [
        {
          "data": {
            "text/plain": [
              "<google.cloud.aiplatform.models.Model object at 0x7f5f1e708910> \n",
              "resource name: projects/12807912884/locations/us-central1/models/7904114214174720000"
            ]
          },
          "execution_count": 64,
          "metadata": {},
          "output_type": "execute_result"
        }
      ],
      "source": [
        "model[0]"
      ]
    },
    {
      "cell_type": "code",
      "execution_count": null,
      "id": "25e8bf7b-460e-40bb-af69-3244cc5e8ff9",
      "metadata": {},
      "outputs": [],
      "source": [
        "# Review model evaluation scores\n",
        "# After the model training has finished, we can review the evaluation scores for it using the list_model_evaluations() method. \n",
        "# This method will return an iterator for each evaluation slice."
      ]
    },
    {
      "cell_type": "code",
      "execution_count": 65,
      "id": "d0479d6a-6a9a-422b-97c1-0f024f0da35e",
      "metadata": {
        "tags": []
      },
      "outputs": [
        {
          "name": "stdout",
          "output_type": "stream",
          "text": [
            "Creating Endpoint\n",
            "Create Endpoint backing LRO: projects/12807912884/locations/us-central1/endpoints/8493069816616189952/operations/6158893973302673408\n",
            "Endpoint created. Resource name: projects/12807912884/locations/us-central1/endpoints/8493069816616189952\n",
            "To use this Endpoint in another session:\n",
            "endpoint = aiplatform.Endpoint('projects/12807912884/locations/us-central1/endpoints/8493069816616189952')\n",
            "Deploying model to Endpoint : projects/12807912884/locations/us-central1/endpoints/8493069816616189952\n",
            "Deploy Endpoint model backing LRO: projects/12807912884/locations/us-central1/endpoints/8493069816616189952/operations/3853050964088979456\n",
            "Endpoint model deployed. Resource name: projects/12807912884/locations/us-central1/endpoints/8493069816616189952\n"
          ]
        }
      ],
      "source": [
        "timestamp = datetime.now().strftime(\"%Y%m%d%H%M%S\")\n",
        "deployed_model_display_name = f\"{MY_NAME}-deployed-tweets-text-classification-model-{timestamp}\"\n",
        "endpoint = model[0].deploy(\n",
        "    deployed_model_display_name=deployed_model_display_name, sync=True\n",
        ")"
      ]
    },
    {
      "cell_type": "code",
      "execution_count": null,
      "id": "80e3d0eb-cc43-49f7-bfe6-6ee9e002d9a8",
      "metadata": {},
      "outputs": [],
      "source": []
    },
    {
      "cell_type": "code",
      "execution_count": 68,
      "id": "626543be-cd06-40bc-9158-bba1a8f1e4ec",
      "metadata": {
        "tags": []
      },
      "outputs": [
        {
          "name": "stdout",
          "output_type": "stream",
          "text": [
            "{'name': 'projects/12807912884/locations/us-central1/models/7904114214174720000@1/evaluations/2911000980642332672', 'metricsSchemaUri': 'gs://google-cloud-aiplatform/schema/modelevaluation/classification_metrics_1.0.0.yaml', 'metrics': {'confusionMatrix': {'rows': [[2244.0, 284.0], [166.0, 4003.0]], 'annotationSpecs': [{'displayName': '0', 'id': '1000665807316844544'}, {'displayName': '1', 'id': '5612351825744232448'}]}, 'confidenceMetrics': [{'precisionAt1': 0.9328057, 'precision': 0.5, 'recallAt1': 0.9328057, 'f1ScoreAt1': 0.9328057, 'f1Score': 0.6666667, 'recall': 1.0, 'maxPredictions': 0.0, 'confidenceThreshold': 0.0}, {'precision': 0.77400535, 'maxPredictions': 0.0, 'f1ScoreAt1': 0.9328057, 'confidenceThreshold': 0.05, 'recallAt1': 0.9328057, 'f1Score': 0.86900705, 'recall': 0.9905928, 'precisionAt1': 0.9328057}, {'precisionAt1': 0.9328057, 'confidenceThreshold': 0.1, 'recallAt1': 0.9328057, 'maxPredictions': 0.0, 'precision': 0.82359564, 'f1ScoreAt1': 0.9328057, 'f1Score': 0.89625597, 'recall': 0.98297745}, {'precision': 0.84774727, 'f1ScoreAt1': 0.9328057, 'f1Score': 0.9081201, 'precisionAt1': 0.9328057, 'confidenceThreshold': 0.15, 'recallAt1': 0.9328057, 'maxPredictions': 0.0, 'recall': 0.97775126}, {'precisionAt1': 0.9328057, 'f1Score': 0.916052, 'precision': 0.8649509, 'recallAt1': 0.9328057, 'f1ScoreAt1': 0.9328057, 'confidenceThreshold': 0.2, 'maxPredictions': 0.0, 'recall': 0.9735702}, {'f1Score': 0.9234933, 'precisionAt1': 0.9328057, 'confidenceThreshold': 0.25, 'maxPredictions': 0.0, 'precision': 0.88298595, 'recall': 0.96789604, 'f1ScoreAt1': 0.9328057, 'recallAt1': 0.9328057}, {'f1ScoreAt1': 0.9328057, 'recallAt1': 0.9328057, 'maxPredictions': 0.0, 'precisionAt1': 0.9328057, 'recall': 0.96132594, 'f1Score': 0.927532, 'confidenceThreshold': 0.3, 'precision': 0.8960334}, {'recall': 0.95565176, 'maxPredictions': 0.0, 'f1ScoreAt1': 0.9328057, 'f1Score': 0.93138325, 'confidenceThreshold': 0.35, 'precision': 0.9083168, 'precisionAt1': 0.9328057, 'recallAt1': 0.9328057}, {'recallAt1': 0.9328057, 'confidenceThreshold': 0.4, 'precision': 0.91658247, 'f1ScoreAt1': 0.9328057, 'maxPredictions': 0.0, 'f1Score': 0.93218845, 'recall': 0.94833505, 'precisionAt1': 0.9328057}, {'confidenceThreshold': 0.45, 'recallAt1': 0.9328057, 'precision': 0.92541474, 'recall': 0.9411677, 'f1ScoreAt1': 0.9328057, 'f1Score': 0.93322474, 'maxPredictions': 0.0, 'precisionAt1': 0.9328057}, {'precisionAt1': 0.9328057, 'maxPredictions': 0.0, 'recall': 0.9328057, 'f1ScoreAt1': 0.9328057, 'precision': 0.9328057, 'recallAt1': 0.9328057, 'f1Score': 0.9328057, 'confidenceThreshold': 0.5}, {'maxPredictions': 0.0, 'confidenceThreshold': 0.55, 'precision': 0.9401489, 'precisionAt1': 0.9401489, 'f1ScoreAt1': 0.93207836, 'f1Score': 0.93207836, 'recallAt1': 0.92414516, 'recall': 0.92414516}, {'maxPredictions': 0.0, 'f1ScoreAt1': 0.9297979, 'recall': 0.9136927, 'precisionAt1': 0.94648105, 'recallAt1': 0.9136927, 'confidenceThreshold': 0.6, 'f1Score': 0.9297979, 'precision': 0.94648105}, {'recallAt1': 0.9035389, 'confidenceThreshold': 0.65, 'recall': 0.9035389, 'f1ScoreAt1': 0.9277118, 'maxPredictions': 0.0, 'precisionAt1': 0.95321363, 'precision': 0.95321363, 'f1Score': 0.9277118}, {'precisionAt1': 0.95828635, 'recallAt1': 0.88845754, 'confidenceThreshold': 0.7, 'recall': 0.88845754, 'f1Score': 0.9220518, 'maxPredictions': 0.0, 'f1ScoreAt1': 0.9220518, 'precision': 0.95828635}, {'confidenceThreshold': 0.75, 'precisionAt1': 0.9644804, 'maxPredictions': 0.0, 'recallAt1': 0.8717336, 'precision': 0.9644804, 'f1Score': 0.9157647, 'f1ScoreAt1': 0.9157647, 'recall': 0.8717336}, {'recallAt1': 0.84799165, 'confidenceThreshold': 0.8, 'maxPredictions': 0.0, 'f1ScoreAt1': 0.90480363, 'recall': 0.84799165, 'precisionAt1': 0.9697746, 'f1Score': 0.90480363, 'precision': 0.9697746}, {'precisionAt1': 0.9737213, 'recallAt1': 0.824399, 'precision': 0.9737213, 'recall': 0.824399, 'f1Score': 0.89286005, 'maxPredictions': 0.0, 'confidenceThreshold': 0.85, 'f1ScoreAt1': 0.89286005}, {'f1Score': 0.8849167, 'recallAt1': 0.8094669, 'precisionAt1': 0.9758776, 'confidenceThreshold': 0.875, 'maxPredictions': 0.0, 'f1ScoreAt1': 0.8849167, 'recall': 0.8094669, 'precision': 0.9758776}, {'precision': 0.9788928, 'precisionAt1': 0.9788928, 'f1ScoreAt1': 0.8740288, 'confidenceThreshold': 0.9, 'f1Score': 0.8740288, 'recallAt1': 0.789458, 'recall': 0.789458, 'maxPredictions': 0.0}, {'recall': 0.7764671, 'precisionAt1': 0.9802073, 'confidenceThreshold': 0.91, 'f1Score': 0.86652225, 'f1ScoreAt1': 0.86652225, 'precision': 0.9802073, 'recallAt1': 0.7764671, 'maxPredictions': 0.0}, {'precision': 0.98066616, 'f1ScoreAt1': 0.85949165, 'confidenceThreshold': 0.92, 'recallAt1': 0.7649694, 'maxPredictions': 0.0, 'precisionAt1': 0.98066616, 'recall': 0.7649694, 'f1Score': 0.85949165}, {'recall': 0.75093323, 'maxPredictions': 0.0, 'precisionAt1': 0.98184305, 'recallAt1': 0.75093323, 'f1ScoreAt1': 0.85100263, 'f1Score': 0.85100263, 'precision': 0.98184305, 'confidenceThreshold': 0.93}, {'maxPredictions': 0.0, 'precisionAt1': 0.983984, 'f1Score': 0.8407458, 'f1ScoreAt1': 0.8407458, 'confidenceThreshold': 0.94, 'recall': 0.7339107, 'precision': 0.983984, 'recallAt1': 0.7339107}, {'recall': 0.710766, 'f1ScoreAt1': 0.8263889, 'maxPredictions': 0.0, 'precision': 0.9869376, 'confidenceThreshold': 0.95, 'f1Score': 0.8263889, 'recallAt1': 0.710766, 'precisionAt1': 0.9869376}, {'f1ScoreAt1': 0.80358094, 'confidenceThreshold': 0.96, 'recall': 0.6768702, 'precisionAt1': 0.98865867, 'maxPredictions': 0.0, 'recallAt1': 0.6768702, 'f1Score': 0.80358094, 'precision': 0.98865867}, {'f1ScoreAt1': 0.77099866, 'precision': 0.99039364, 'f1Score': 0.77099866, 'recall': 0.63117814, 'recallAt1': 0.63117814, 'precisionAt1': 0.99039364, 'confidenceThreshold': 0.97, 'maxPredictions': 0.0}, {'f1Score': 0.7171322, 'maxPredictions': 0.0, 'recallAt1': 0.5615947, 'precision': 0.99182487, 'f1ScoreAt1': 0.7171322, 'recall': 0.5615947, 'confidenceThreshold': 0.98, 'precisionAt1': 0.99182487}, {'confidenceThreshold': 0.99, 'maxPredictions': 0.0, 'recall': 0.44079438, 'precision': 0.99360484, 'f1Score': 0.6106744, 'precisionAt1': 0.99360484, 'recallAt1': 0.44079438, 'f1ScoreAt1': 0.6106744}, {'f1Score': 0.47977337, 'maxPredictions': 0.0, 'f1ScoreAt1': 0.47977337, 'precisionAt1': 0.99483085, 'precision': 0.99483085, 'recall': 0.31611168, 'recallAt1': 0.31611168, 'confidenceThreshold': 0.995}, {'f1Score': 0.42964178, 'confidenceThreshold': 0.996, 'f1ScoreAt1': 0.42964178, 'maxPredictions': 0.0, 'recall': 0.2740033, 'recallAt1': 0.2740033, 'precisionAt1': 0.99458, 'precision': 0.99458}, {'recallAt1': 0.22532476, 'f1ScoreAt1': 0.36742148, 'precisionAt1': 0.9947264, 'recall': 0.22532476, 'maxPredictions': 0.0, 'precision': 0.9947264, 'confidenceThreshold': 0.997, 'f1Score': 0.36742148}, {'precision': 0.99626863, 'precisionAt1': 0.99626863, 'recall': 0.15947439, 'f1ScoreAt1': 0.27493885, 'f1Score': 0.27493885, 'recallAt1': 0.15947439, 'confidenceThreshold': 0.998, 'maxPredictions': 0.0}, {'precisionAt1': 0.99553573, 'f1ScoreAt1': 0.12484255, 'maxPredictions': 0.0, 'f1Score': 0.12484255, 'recallAt1': 0.066596985, 'precision': 0.99553573, 'confidenceThreshold': 0.999, 'recall': 0.066596985}, {'precisionAt1': 1.0, 'recall': 0.0, 'f1ScoreAt1': 0.0, 'maxPredictions': 0.0, 'recallAt1': 0.0, 'confidenceThreshold': 1.0, 'f1Score': 0.0, 'precision': 1.0}], 'logLoss': 0.17783023, 'auPrc': 0.9793808}, 'createTime': '2023-11-22T08:06:45.854412Z', 'sliceDimensions': ['annotationSpec'], 'annotationSchemaUri': 'gs://google-cloud-aiplatform/schema/dataset/annotation/text_classification_1.0.0.yaml'}\n"
          ]
        }
      ],
      "source": [
        "model_evaluations = model[0].list_model_evaluations()\n",
        "\n",
        "for model_evaluation in model_evaluations:\n",
        "    print(model_evaluation.to_dict())"
      ]
    },
    {
      "cell_type": "code",
      "execution_count": null,
      "id": "bc18d6e3-cef3-4426-ac2d-829db4f97a1d",
      "metadata": {},
      "outputs": [],
      "source": []
    }
  ],
  "metadata": {
    "environment": {
      "kernel": "python3",
      "name": "tf2-cpu.2-11.m113",
      "type": "gcloud",
      "uri": "gcr.io/deeplearning-platform-release/tf2-cpu.2-11:m113"
    },
    "kernelspec": {
      "display_name": "Python 3",
      "language": "python",
      "name": "python3"
    },
    "language_info": {
      "codemirror_mode": {
        "name": "ipython",
        "version": 3
      },
      "file_extension": ".py",
      "mimetype": "text/x-python",
      "name": "python",
      "nbconvert_exporter": "python",
      "pygments_lexer": "ipython3",
      "version": "3.10.13"
    }
  },
  "nbformat": 4,
  "nbformat_minor": 5
}
